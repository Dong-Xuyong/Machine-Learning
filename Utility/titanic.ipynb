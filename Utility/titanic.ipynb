{
 "cells": [
  {
   "cell_type": "code",
   "execution_count": 1,
   "metadata": {},
   "outputs": [],
   "source": [
    "import os"
   ]
  },
  {
   "cell_type": "code",
   "execution_count": null,
   "metadata": {},
   "outputs": [],
   "source": []
  },
  {
   "cell_type": "code",
   "execution_count": null,
   "metadata": {},
   "outputs": [],
   "source": [
    "!cd /Users/xuydo/.kaggle/ && dir"
   ]
  },
  {
   "cell_type": "code",
   "execution_count": null,
   "metadata": {},
   "outputs": [],
   "source": [
    "!kaggle datasets list -s 'titanic'"
   ]
  },
  {
   "cell_type": "code",
   "execution_count": null,
   "metadata": {},
   "outputs": [],
   "source": [
    "!kaggle datasets download -d 'shravanbangera/output'"
   ]
  },
  {
   "cell_type": "code",
   "execution_count": null,
   "metadata": {},
   "outputs": [],
   "source": [
    "!kaggle competitions list"
   ]
  },
  {
   "cell_type": "code",
   "execution_count": null,
   "metadata": {},
   "outputs": [],
   "source": [
    "!kaggle datasets list -s 'titanic'"
   ]
  },
  {
   "cell_type": "code",
   "execution_count": null,
   "metadata": {},
   "outputs": [],
   "source": [
    "!kaggle competitions download -c titanic"
   ]
  },
  {
   "cell_type": "code",
   "execution_count": 1,
   "metadata": {},
   "outputs": [],
   "source": [
    "import zipfile\n",
    "path_to_zip_file = 'titanic.zip'\n",
    "\n",
    "\n",
    "def extract_zip(file = path_to_zip_file):\n",
    "    with zipfile.ZipFile(file, 'r') as zip_ref:\n",
    "        print(zip_ref.namelist())\n",
    "    with zipfile.ZipFile(file, 'r') as zip_ref:\n",
    "        zip_ref.extractall()"
   ]
  },
  {
   "cell_type": "code",
   "execution_count": 2,
   "metadata": {},
   "outputs": [
    {
     "name": "stdout",
     "output_type": "stream",
     "text": [
      "['gender_submission.csv', 'test.csv', 'train.csv']\n"
     ]
    }
   ],
   "source": [
    "extract_zip()"
   ]
  },
  {
   "cell_type": "code",
   "execution_count": 43,
   "metadata": {},
   "outputs": [],
   "source": [
    "import pandas as pd\n",
    "import numpy as np\n",
    "import seaborn as sns\n",
    "import matplotlib.pyplot as plt\n",
    "%matplotlib inline\n",
    "\n",
    "strat_train = pd.read_csv(\"./train.csv\")\n",
    "strat_test = pd.read_csv(\"./test.csv\")\n",
    "strat_gender = pd.read_csv(\"./gender_submission.csv\")"
   ]
  },
  {
   "cell_type": "code",
   "execution_count": 44,
   "metadata": {},
   "outputs": [],
   "source": [
    "combine_df = [strat_train, strat_test]"
   ]
  },
  {
   "cell_type": "code",
   "execution_count": 45,
   "metadata": {},
   "outputs": [
    {
     "data": {
      "text/plain": [
       "{'Survived'}"
      ]
     },
     "execution_count": 45,
     "metadata": {},
     "output_type": "execute_result"
    }
   ],
   "source": [
    "set(strat_train.columns)-set(strat_test.columns)"
   ]
  },
  {
   "cell_type": "code",
   "execution_count": 46,
   "metadata": {},
   "outputs": [
    {
     "name": "stdout",
     "output_type": "stream",
     "text": [
      "<class 'pandas.core.frame.DataFrame'>\n",
      "RangeIndex: 891 entries, 0 to 890\n",
      "Data columns (total 12 columns):\n",
      " #   Column       Non-Null Count  Dtype  \n",
      "---  ------       --------------  -----  \n",
      " 0   PassengerId  891 non-null    int64  \n",
      " 1   Survived     891 non-null    int64  \n",
      " 2   Pclass       891 non-null    int64  \n",
      " 3   Name         891 non-null    object \n",
      " 4   Sex          891 non-null    object \n",
      " 5   Age          714 non-null    float64\n",
      " 6   SibSp        891 non-null    int64  \n",
      " 7   Parch        891 non-null    int64  \n",
      " 8   Ticket       891 non-null    object \n",
      " 9   Fare         891 non-null    float64\n",
      " 10  Cabin        204 non-null    object \n",
      " 11  Embarked     889 non-null    object \n",
      "dtypes: float64(2), int64(5), object(5)\n",
      "memory usage: 83.7+ KB\n",
      "________________________________________\n",
      "<class 'pandas.core.frame.DataFrame'>\n",
      "RangeIndex: 418 entries, 0 to 417\n",
      "Data columns (total 11 columns):\n",
      " #   Column       Non-Null Count  Dtype  \n",
      "---  ------       --------------  -----  \n",
      " 0   PassengerId  418 non-null    int64  \n",
      " 1   Pclass       418 non-null    int64  \n",
      " 2   Name         418 non-null    object \n",
      " 3   Sex          418 non-null    object \n",
      " 4   Age          332 non-null    float64\n",
      " 5   SibSp        418 non-null    int64  \n",
      " 6   Parch        418 non-null    int64  \n",
      " 7   Ticket       418 non-null    object \n",
      " 8   Fare         417 non-null    float64\n",
      " 9   Cabin        91 non-null     object \n",
      " 10  Embarked     418 non-null    object \n",
      "dtypes: float64(2), int64(4), object(5)\n",
      "memory usage: 36.0+ KB\n"
     ]
    }
   ],
   "source": [
    "strat_train.info()\n",
    "print(\"_\"*40)\n",
    "strat_test.info()"
   ]
  },
  {
   "cell_type": "code",
   "execution_count": 47,
   "metadata": {},
   "outputs": [
    {
     "data": {
      "text/html": [
       "<div>\n",
       "<style scoped>\n",
       "    .dataframe tbody tr th:only-of-type {\n",
       "        vertical-align: middle;\n",
       "    }\n",
       "\n",
       "    .dataframe tbody tr th {\n",
       "        vertical-align: top;\n",
       "    }\n",
       "\n",
       "    .dataframe thead th {\n",
       "        text-align: right;\n",
       "    }\n",
       "</style>\n",
       "<table border=\"1\" class=\"dataframe\">\n",
       "  <thead>\n",
       "    <tr style=\"text-align: right;\">\n",
       "      <th></th>\n",
       "      <th>Name</th>\n",
       "      <th>Sex</th>\n",
       "      <th>Ticket</th>\n",
       "      <th>Cabin</th>\n",
       "      <th>Embarked</th>\n",
       "    </tr>\n",
       "  </thead>\n",
       "  <tbody>\n",
       "    <tr>\n",
       "      <th>count</th>\n",
       "      <td>891</td>\n",
       "      <td>891</td>\n",
       "      <td>891</td>\n",
       "      <td>204</td>\n",
       "      <td>889</td>\n",
       "    </tr>\n",
       "    <tr>\n",
       "      <th>unique</th>\n",
       "      <td>891</td>\n",
       "      <td>2</td>\n",
       "      <td>681</td>\n",
       "      <td>147</td>\n",
       "      <td>3</td>\n",
       "    </tr>\n",
       "    <tr>\n",
       "      <th>top</th>\n",
       "      <td>Vander Planke, Mrs. Julius (Emelia Maria Vande...</td>\n",
       "      <td>male</td>\n",
       "      <td>1601</td>\n",
       "      <td>G6</td>\n",
       "      <td>S</td>\n",
       "    </tr>\n",
       "    <tr>\n",
       "      <th>freq</th>\n",
       "      <td>1</td>\n",
       "      <td>577</td>\n",
       "      <td>7</td>\n",
       "      <td>4</td>\n",
       "      <td>644</td>\n",
       "    </tr>\n",
       "  </tbody>\n",
       "</table>\n",
       "</div>"
      ],
      "text/plain": [
       "                                                     Name   Sex Ticket Cabin  \\\n",
       "count                                                 891   891    891   204   \n",
       "unique                                                891     2    681   147   \n",
       "top     Vander Planke, Mrs. Julius (Emelia Maria Vande...  male   1601    G6   \n",
       "freq                                                    1   577      7     4   \n",
       "\n",
       "       Embarked  \n",
       "count       889  \n",
       "unique        3  \n",
       "top           S  \n",
       "freq        644  "
      ]
     },
     "execution_count": 47,
     "metadata": {},
     "output_type": "execute_result"
    }
   ],
   "source": [
    "strat_train.describe(include=['O'])"
   ]
  },
  {
   "cell_type": "code",
   "execution_count": 48,
   "metadata": {},
   "outputs": [],
   "source": [
    "for data in combine_df:\n",
    "    data.drop(labels=[\"PassengerId\", \"Ticket\"], axis=1, inplace=True)"
   ]
  },
  {
   "cell_type": "code",
   "execution_count": 49,
   "metadata": {},
   "outputs": [],
   "source": [
    "df_train = strat_train.copy()\n",
    "df_test = strat_test.copy()"
   ]
  },
  {
   "cell_type": "code",
   "execution_count": 50,
   "metadata": {},
   "outputs": [
    {
     "data": {
      "text/plain": [
       "Age         177\n",
       "Cabin       687\n",
       "Embarked      2\n",
       "dtype: int64"
      ]
     },
     "execution_count": 50,
     "metadata": {},
     "output_type": "execute_result"
    }
   ],
   "source": [
    "cols_with_missing = [col for col in df_train.columns if df_train[col].isnull().any()] \n",
    "pd.isnull(df_train[cols_with_missing]).sum()"
   ]
  },
  {
   "cell_type": "code",
   "execution_count": 51,
   "metadata": {},
   "outputs": [],
   "source": [
    "def isAlone(X):\n",
    "    X[\"Alone\"] = X[\"SibSp\"] + X[\"Parch\"]\n",
    "    X.Alone = X.Alone.apply(lambda x: 1 if x == 0 else 0)\n",
    "    X.drop(['SibSp', 'Parch'], axis=1, inplace=True)\n",
    "    \n"
   ]
  },
  {
   "cell_type": "code",
   "execution_count": 52,
   "metadata": {},
   "outputs": [
    {
     "name": "stderr",
     "output_type": "stream",
     "text": [
      "C:\\Users\\xuydo\\anaconda3\\envs\\tf2\\lib\\site-packages\\seaborn\\_decorators.py:43: FutureWarning: Pass the following variable as a keyword arg: x. From version 0.12, the only valid positional argument will be `data`, and passing other arguments without an explicit keyword will result in an error or misinterpretation.\n",
      "  FutureWarning\n"
     ]
    },
    {
     "data": {
      "text/plain": [
       "[]"
      ]
     },
     "execution_count": 52,
     "metadata": {},
     "output_type": "execute_result"
    },
    {
     "data": {
      "image/png": "[encoded data removed]",
      "text/plain": [
       "<Figure size 432x288 with 1 Axes>"
      ]
     },
     "metadata": {
      "needs_background": "light"
     },
     "output_type": "display_data"
    }
   ],
   "source": [
    "isAlone(df_train)\n",
    "sns.countplot(df_train[\"Alone\"])\n",
    "plt.plot()"
   ]
  },
  {
   "cell_type": "code",
   "execution_count": 55,
   "metadata": {},
   "outputs": [
    {
     "data": {
      "text/plain": [
       "array(['Survived', 'Pclass', 'Name', 'Sex', 'Age', 'SibSp', 'Parch',\n",
       "       'Fare', 'Cabin', 'Embarked'], dtype=object)"
      ]
     },
     "execution_count": 55,
     "metadata": {},
     "output_type": "execute_result"
    }
   ],
   "source": [
    "strat_train.columns.values"
   ]
  },
  {
   "cell_type": "code",
   "execution_count": 60,
   "metadata": {},
   "outputs": [],
   "source": [
    "df_train = strat_train.drop(\"Survived\", axis=1)\n",
    "df_labels = strat_train['Survived']"
   ]
  },
  {
   "cell_type": "code",
   "execution_count": 61,
   "metadata": {},
   "outputs": [
    {
     "data": {
      "text/plain": [
       "Pclass        0\n",
       "Name          0\n",
       "Sex           0\n",
       "Age         177\n",
       "SibSp         0\n",
       "Parch         0\n",
       "Fare          0\n",
       "Cabin       687\n",
       "Embarked      2\n",
       "dtype: int64"
      ]
     },
     "execution_count": 61,
     "metadata": {},
     "output_type": "execute_result"
    }
   ],
   "source": [
    "df_train.isnull().sum()"
   ]
  },
  {
   "cell_type": "code",
   "execution_count": 63,
   "metadata": {},
   "outputs": [
    {
     "name": "stdout",
     "output_type": "stream",
     "text": [
      "<class 'pandas.core.frame.DataFrame'>\n",
      "RangeIndex: 891 entries, 0 to 890\n",
      "Data columns (total 9 columns):\n",
      " #   Column    Non-Null Count  Dtype  \n",
      "---  ------    --------------  -----  \n",
      " 0   Pclass    891 non-null    int64  \n",
      " 1   Name      891 non-null    object \n",
      " 2   Sex       891 non-null    object \n",
      " 3   Age       714 non-null    float64\n",
      " 4   SibSp     891 non-null    int64  \n",
      " 5   Parch     891 non-null    int64  \n",
      " 6   Fare      891 non-null    float64\n",
      " 7   Cabin     204 non-null    object \n",
      " 8   Embarked  889 non-null    object \n",
      "dtypes: float64(2), int64(3), object(4)\n",
      "memory usage: 62.8+ KB\n"
     ]
    }
   ],
   "source": [
    "df_train.info()"
   ]
  },
  {
   "cell_type": "code",
   "execution_count": 64,
   "metadata": {},
   "outputs": [
    {
     "name": "stderr",
     "output_type": "stream",
     "text": [
      "C:\\Users\\xuydo\\anaconda3\\envs\\tf2\\lib\\site-packages\\seaborn\\_decorators.py:43: FutureWarning: Pass the following variable as a keyword arg: x. From version 0.12, the only valid positional argument will be `data`, and passing other arguments without an explicit keyword will result in an error or misinterpretation.\n",
      "  FutureWarning\n"
     ]
    },
    {
     "data": {
      "text/plain": [
       "[]"
      ]
     },
     "execution_count": 64,
     "metadata": {},
     "output_type": "execute_result"
    },
    {
     "data": {
      "image/png": "[encoded data removed]",
      "text/plain": [
       "<Figure size 432x288 with 1 Axes>"
      ]
     },
     "metadata": {
      "needs_background": "light"
     },
     "output_type": "display_data"
    }
   ],
   "source": [
    "isAlone(df_train)\n",
    "sns.countplot(df_train[\"Alone\"])\n",
    "plt.plot()"
   ]
  },
  {
   "cell_type": "code",
   "execution_count": 65,
   "metadata": {},
   "outputs": [
    {
     "name": "stdout",
     "output_type": "stream",
     "text": [
      "<class 'pandas.core.frame.DataFrame'>\n",
      "RangeIndex: 891 entries, 0 to 890\n",
      "Data columns (total 8 columns):\n",
      " #   Column    Non-Null Count  Dtype  \n",
      "---  ------    --------------  -----  \n",
      " 0   Pclass    891 non-null    int64  \n",
      " 1   Name      891 non-null    object \n",
      " 2   Sex       891 non-null    object \n",
      " 3   Age       714 non-null    float64\n",
      " 4   Fare      891 non-null    float64\n",
      " 5   Cabin     204 non-null    object \n",
      " 6   Embarked  889 non-null    object \n",
      " 7   Alone     891 non-null    int64  \n",
      "dtypes: float64(2), int64(2), object(4)\n",
      "memory usage: 55.8+ KB\n"
     ]
    }
   ],
   "source": [
    "df_train.info()"
   ]
  },
  {
   "cell_type": "code",
   "execution_count": 123,
   "metadata": {},
   "outputs": [],
   "source": [
    "df_cat = df_train.drop(labels=[\"Age\", \"Fare\", \"Cabin\"], axis =1)\n",
    "df_num = df_train.drop(labels=[\"Pclass\", \"Name\", \"Sex\", \"Cabin\", \"Embarked\", \"Alone\"], axis = 1)"
   ]
  },
  {
   "cell_type": "code",
   "execution_count": 79,
   "metadata": {},
   "outputs": [
    {
     "data": {
      "text/plain": [
       "array(['Pclass', 'Name', 'Sex', 'Embarked', 'Alone'], dtype=object)"
      ]
     },
     "execution_count": 79,
     "metadata": {},
     "output_type": "execute_result"
    }
   ],
   "source": [
    "df_cat.columns.values"
   ]
  },
  {
   "cell_type": "code",
   "execution_count": 80,
   "metadata": {},
   "outputs": [
    {
     "data": {
      "text/plain": [
       "array(['Age', 'Fare'], dtype=object)"
      ]
     },
     "execution_count": 80,
     "metadata": {},
     "output_type": "execute_result"
    }
   ],
   "source": [
    "df_num.columns.values"
   ]
  },
  {
   "cell_type": "code",
   "execution_count": 82,
   "metadata": {},
   "outputs": [
    {
     "data": {
      "text/plain": [
       "Pclass      0\n",
       "Name        0\n",
       "Sex         0\n",
       "Embarked    2\n",
       "Alone       0\n",
       "dtype: int64"
      ]
     },
     "execution_count": 82,
     "metadata": {},
     "output_type": "execute_result"
    }
   ],
   "source": [
    "df_cat.isnull().sum()"
   ]
  },
  {
   "cell_type": "code",
   "execution_count": 90,
   "metadata": {},
   "outputs": [
    {
     "data": {
      "text/plain": [
       "'S'"
      ]
     },
     "execution_count": 90,
     "metadata": {},
     "output_type": "execute_result"
    }
   ],
   "source": [
    "df_cat[\"Embarked\"].mode()[0]"
   ]
  },
  {
   "cell_type": "code",
   "execution_count": 91,
   "metadata": {},
   "outputs": [
    {
     "data": {
      "text/html": [
       "<div>\n",
       "<style scoped>\n",
       "    .dataframe tbody tr th:only-of-type {\n",
       "        vertical-align: middle;\n",
       "    }\n",
       "\n",
       "    .dataframe tbody tr th {\n",
       "        vertical-align: top;\n",
       "    }\n",
       "\n",
       "    .dataframe thead th {\n",
       "        text-align: right;\n",
       "    }\n",
       "</style>\n",
       "<table border=\"1\" class=\"dataframe\">\n",
       "  <thead>\n",
       "    <tr style=\"text-align: right;\">\n",
       "      <th></th>\n",
       "      <th>Pclass</th>\n",
       "      <th>Name</th>\n",
       "      <th>Sex</th>\n",
       "      <th>Embarked</th>\n",
       "      <th>Alone</th>\n",
       "    </tr>\n",
       "  </thead>\n",
       "  <tbody>\n",
       "    <tr>\n",
       "      <th>0</th>\n",
       "      <td>3</td>\n",
       "      <td>Braund, Mr. Owen Harris</td>\n",
       "      <td>male</td>\n",
       "      <td>S</td>\n",
       "      <td>0</td>\n",
       "    </tr>\n",
       "    <tr>\n",
       "      <th>1</th>\n",
       "      <td>1</td>\n",
       "      <td>Cumings, Mrs. John Bradley (Florence Briggs Th...</td>\n",
       "      <td>female</td>\n",
       "      <td>C</td>\n",
       "      <td>0</td>\n",
       "    </tr>\n",
       "    <tr>\n",
       "      <th>2</th>\n",
       "      <td>3</td>\n",
       "      <td>Heikkinen, Miss. Laina</td>\n",
       "      <td>female</td>\n",
       "      <td>S</td>\n",
       "      <td>1</td>\n",
       "    </tr>\n",
       "    <tr>\n",
       "      <th>3</th>\n",
       "      <td>1</td>\n",
       "      <td>Futrelle, Mrs. Jacques Heath (Lily May Peel)</td>\n",
       "      <td>female</td>\n",
       "      <td>S</td>\n",
       "      <td>0</td>\n",
       "    </tr>\n",
       "    <tr>\n",
       "      <th>4</th>\n",
       "      <td>3</td>\n",
       "      <td>Allen, Mr. William Henry</td>\n",
       "      <td>male</td>\n",
       "      <td>S</td>\n",
       "      <td>1</td>\n",
       "    </tr>\n",
       "  </tbody>\n",
       "</table>\n",
       "</div>"
      ],
      "text/plain": [
       "   Pclass                                               Name     Sex Embarked  \\\n",
       "0       3                            Braund, Mr. Owen Harris    male        S   \n",
       "1       1  Cumings, Mrs. John Bradley (Florence Briggs Th...  female        C   \n",
       "2       3                             Heikkinen, Miss. Laina  female        S   \n",
       "3       1       Futrelle, Mrs. Jacques Heath (Lily May Peel)  female        S   \n",
       "4       3                           Allen, Mr. William Henry    male        S   \n",
       "\n",
       "   Alone  \n",
       "0      0  \n",
       "1      0  \n",
       "2      1  \n",
       "3      0  \n",
       "4      1  "
      ]
     },
     "execution_count": 91,
     "metadata": {},
     "output_type": "execute_result"
    }
   ],
   "source": [
    "df_cat.head()"
   ]
  },
  {
   "cell_type": "code",
   "execution_count": null,
   "metadata": {},
   "outputs": [],
   "source": []
  },
  {
   "cell_type": "code",
   "execution_count": 119,
   "metadata": {},
   "outputs": [],
   "source": [
    "from sklearn.pipeline import Pipeline\n",
    "from sklearn.preprocessing import StandardScaler\n",
    "from sklearn.impute import SimpleImputer\n",
    "\n",
    "cat_pipeline = Pipeline([\n",
    "    ('imputer', SimpleImputer(strategy=\"most_frequent\")),\n",
    "])\n",
    "\n",
    "df_cat_tr = cat_pipeline.fit_transform(df_cat)"
   ]
  },
  {
   "cell_type": "code",
   "execution_count": 96,
   "metadata": {},
   "outputs": [
    {
     "data": {
      "text/html": [
       "<div>\n",
       "<style scoped>\n",
       "    .dataframe tbody tr th:only-of-type {\n",
       "        vertical-align: middle;\n",
       "    }\n",
       "\n",
       "    .dataframe tbody tr th {\n",
       "        vertical-align: top;\n",
       "    }\n",
       "\n",
       "    .dataframe thead th {\n",
       "        text-align: right;\n",
       "    }\n",
       "</style>\n",
       "<table border=\"1\" class=\"dataframe\">\n",
       "  <thead>\n",
       "    <tr style=\"text-align: right;\">\n",
       "      <th></th>\n",
       "      <th>Pclass</th>\n",
       "      <th>Name</th>\n",
       "      <th>Sex</th>\n",
       "      <th>Embarked</th>\n",
       "      <th>Alone</th>\n",
       "    </tr>\n",
       "  </thead>\n",
       "  <tbody>\n",
       "    <tr>\n",
       "      <th>0</th>\n",
       "      <td>3</td>\n",
       "      <td>Braund, Mr. Owen Harris</td>\n",
       "      <td>male</td>\n",
       "      <td>S</td>\n",
       "      <td>0</td>\n",
       "    </tr>\n",
       "    <tr>\n",
       "      <th>1</th>\n",
       "      <td>1</td>\n",
       "      <td>Cumings, Mrs. John Bradley (Florence Briggs Th...</td>\n",
       "      <td>female</td>\n",
       "      <td>C</td>\n",
       "      <td>0</td>\n",
       "    </tr>\n",
       "    <tr>\n",
       "      <th>2</th>\n",
       "      <td>3</td>\n",
       "      <td>Heikkinen, Miss. Laina</td>\n",
       "      <td>female</td>\n",
       "      <td>S</td>\n",
       "      <td>1</td>\n",
       "    </tr>\n",
       "    <tr>\n",
       "      <th>3</th>\n",
       "      <td>1</td>\n",
       "      <td>Futrelle, Mrs. Jacques Heath (Lily May Peel)</td>\n",
       "      <td>female</td>\n",
       "      <td>S</td>\n",
       "      <td>0</td>\n",
       "    </tr>\n",
       "    <tr>\n",
       "      <th>4</th>\n",
       "      <td>3</td>\n",
       "      <td>Allen, Mr. William Henry</td>\n",
       "      <td>male</td>\n",
       "      <td>S</td>\n",
       "      <td>1</td>\n",
       "    </tr>\n",
       "  </tbody>\n",
       "</table>\n",
       "</div>"
      ],
      "text/plain": [
       "  Pclass                                               Name     Sex Embarked  \\\n",
       "0      3                            Braund, Mr. Owen Harris    male        S   \n",
       "1      1  Cumings, Mrs. John Bradley (Florence Briggs Th...  female        C   \n",
       "2      3                             Heikkinen, Miss. Laina  female        S   \n",
       "3      1       Futrelle, Mrs. Jacques Heath (Lily May Peel)  female        S   \n",
       "4      3                           Allen, Mr. William Henry    male        S   \n",
       "\n",
       "  Alone  \n",
       "0     0  \n",
       "1     0  \n",
       "2     1  \n",
       "3     0  \n",
       "4     1  "
      ]
     },
     "execution_count": 96,
     "metadata": {},
     "output_type": "execute_result"
    }
   ],
   "source": [
    "housing_extra_attribs = pd.DataFrame(\n",
    "    df_cat_tr,\n",
    "    columns=list(df_cat.columns),\n",
    "    index=df_cat.index)\n",
    "housing_extra_attribs.head()"
   ]
  },
  {
   "cell_type": "code",
   "execution_count": 120,
   "metadata": {},
   "outputs": [],
   "source": [
    "def extractName(X):\n",
    "    X['Title'] = X.Name.str.extract('([A-Za-z]+)\\.', expand = False)\n",
    "    data.drop('Name', axis = 1, inplace=True)"
   ]
  },
  {
   "cell_type": "code",
   "execution_count": 124,
   "metadata": {},
   "outputs": [
    {
     "ename": "KeyError",
     "evalue": "\"['Name'] not found in axis\"",
     "output_type": "error",
     "traceback": [
      "\u001b[1;31m---------------------------------------------------------------------------\u001b[0m",
      "\u001b[1;31mKeyError\u001b[0m                                  Traceback (most recent call last)",
      "\u001b[1;32m<ipython-input-124-d3a11d95c91e>\u001b[0m in \u001b[0;36m<module>\u001b[1;34m\u001b[0m\n\u001b[1;32m----> 1\u001b[1;33m \u001b[0mextractName\u001b[0m\u001b[1;33m(\u001b[0m\u001b[0mdf_cat\u001b[0m\u001b[1;33m)\u001b[0m\u001b[1;33m\u001b[0m\u001b[1;33m\u001b[0m\u001b[0m\n\u001b[0m",
      "\u001b[1;32m<ipython-input-120-1706a615194e>\u001b[0m in \u001b[0;36mextractName\u001b[1;34m(X)\u001b[0m\n\u001b[0;32m      1\u001b[0m \u001b[1;32mdef\u001b[0m \u001b[0mextractName\u001b[0m\u001b[1;33m(\u001b[0m\u001b[0mX\u001b[0m\u001b[1;33m)\u001b[0m\u001b[1;33m:\u001b[0m\u001b[1;33m\u001b[0m\u001b[1;33m\u001b[0m\u001b[0m\n\u001b[0;32m      2\u001b[0m     \u001b[0mX\u001b[0m\u001b[1;33m[\u001b[0m\u001b[1;34m'Title'\u001b[0m\u001b[1;33m]\u001b[0m \u001b[1;33m=\u001b[0m \u001b[0mX\u001b[0m\u001b[1;33m.\u001b[0m\u001b[0mName\u001b[0m\u001b[1;33m.\u001b[0m\u001b[0mstr\u001b[0m\u001b[1;33m.\u001b[0m\u001b[0mextract\u001b[0m\u001b[1;33m(\u001b[0m\u001b[1;34m'([A-Za-z]+)\\.'\u001b[0m\u001b[1;33m,\u001b[0m \u001b[0mexpand\u001b[0m \u001b[1;33m=\u001b[0m \u001b[1;32mFalse\u001b[0m\u001b[1;33m)\u001b[0m\u001b[1;33m\u001b[0m\u001b[1;33m\u001b[0m\u001b[0m\n\u001b[1;32m----> 3\u001b[1;33m     \u001b[0mdata\u001b[0m\u001b[1;33m.\u001b[0m\u001b[0mdrop\u001b[0m\u001b[1;33m(\u001b[0m\u001b[1;34m'Name'\u001b[0m\u001b[1;33m,\u001b[0m \u001b[0maxis\u001b[0m \u001b[1;33m=\u001b[0m \u001b[1;36m1\u001b[0m\u001b[1;33m,\u001b[0m \u001b[0minplace\u001b[0m\u001b[1;33m=\u001b[0m\u001b[1;32mTrue\u001b[0m\u001b[1;33m)\u001b[0m\u001b[1;33m\u001b[0m\u001b[1;33m\u001b[0m\u001b[0m\n\u001b[0m",
      "\u001b[1;32m~\\anaconda3\\envs\\tf2\\lib\\site-packages\\pandas\\core\\frame.py\u001b[0m in \u001b[0;36mdrop\u001b[1;34m(self, labels, axis, index, columns, level, inplace, errors)\u001b[0m\n\u001b[0;32m   4313\u001b[0m             \u001b[0mlevel\u001b[0m\u001b[1;33m=\u001b[0m\u001b[0mlevel\u001b[0m\u001b[1;33m,\u001b[0m\u001b[1;33m\u001b[0m\u001b[1;33m\u001b[0m\u001b[0m\n\u001b[0;32m   4314\u001b[0m             \u001b[0minplace\u001b[0m\u001b[1;33m=\u001b[0m\u001b[0minplace\u001b[0m\u001b[1;33m,\u001b[0m\u001b[1;33m\u001b[0m\u001b[1;33m\u001b[0m\u001b[0m\n\u001b[1;32m-> 4315\u001b[1;33m             \u001b[0merrors\u001b[0m\u001b[1;33m=\u001b[0m\u001b[0merrors\u001b[0m\u001b[1;33m,\u001b[0m\u001b[1;33m\u001b[0m\u001b[1;33m\u001b[0m\u001b[0m\n\u001b[0m\u001b[0;32m   4316\u001b[0m         )\n\u001b[0;32m   4317\u001b[0m \u001b[1;33m\u001b[0m\u001b[0m\n",
      "\u001b[1;32m~\\anaconda3\\envs\\tf2\\lib\\site-packages\\pandas\\core\\generic.py\u001b[0m in \u001b[0;36mdrop\u001b[1;34m(self, labels, axis, index, columns, level, inplace, errors)\u001b[0m\n\u001b[0;32m   4151\u001b[0m         \u001b[1;32mfor\u001b[0m \u001b[0maxis\u001b[0m\u001b[1;33m,\u001b[0m \u001b[0mlabels\u001b[0m \u001b[1;32min\u001b[0m \u001b[0maxes\u001b[0m\u001b[1;33m.\u001b[0m\u001b[0mitems\u001b[0m\u001b[1;33m(\u001b[0m\u001b[1;33m)\u001b[0m\u001b[1;33m:\u001b[0m\u001b[1;33m\u001b[0m\u001b[1;33m\u001b[0m\u001b[0m\n\u001b[0;32m   4152\u001b[0m             \u001b[1;32mif\u001b[0m \u001b[0mlabels\u001b[0m \u001b[1;32mis\u001b[0m \u001b[1;32mnot\u001b[0m \u001b[1;32mNone\u001b[0m\u001b[1;33m:\u001b[0m\u001b[1;33m\u001b[0m\u001b[1;33m\u001b[0m\u001b[0m\n\u001b[1;32m-> 4153\u001b[1;33m                 \u001b[0mobj\u001b[0m \u001b[1;33m=\u001b[0m \u001b[0mobj\u001b[0m\u001b[1;33m.\u001b[0m\u001b[0m_drop_axis\u001b[0m\u001b[1;33m(\u001b[0m\u001b[0mlabels\u001b[0m\u001b[1;33m,\u001b[0m \u001b[0maxis\u001b[0m\u001b[1;33m,\u001b[0m \u001b[0mlevel\u001b[0m\u001b[1;33m=\u001b[0m\u001b[0mlevel\u001b[0m\u001b[1;33m,\u001b[0m \u001b[0merrors\u001b[0m\u001b[1;33m=\u001b[0m\u001b[0merrors\u001b[0m\u001b[1;33m)\u001b[0m\u001b[1;33m\u001b[0m\u001b[1;33m\u001b[0m\u001b[0m\n\u001b[0m\u001b[0;32m   4154\u001b[0m \u001b[1;33m\u001b[0m\u001b[0m\n\u001b[0;32m   4155\u001b[0m         \u001b[1;32mif\u001b[0m \u001b[0minplace\u001b[0m\u001b[1;33m:\u001b[0m\u001b[1;33m\u001b[0m\u001b[1;33m\u001b[0m\u001b[0m\n",
      "\u001b[1;32m~\\anaconda3\\envs\\tf2\\lib\\site-packages\\pandas\\core\\generic.py\u001b[0m in \u001b[0;36m_drop_axis\u001b[1;34m(self, labels, axis, level, errors)\u001b[0m\n\u001b[0;32m   4186\u001b[0m                 \u001b[0mnew_axis\u001b[0m \u001b[1;33m=\u001b[0m \u001b[0maxis\u001b[0m\u001b[1;33m.\u001b[0m\u001b[0mdrop\u001b[0m\u001b[1;33m(\u001b[0m\u001b[0mlabels\u001b[0m\u001b[1;33m,\u001b[0m \u001b[0mlevel\u001b[0m\u001b[1;33m=\u001b[0m\u001b[0mlevel\u001b[0m\u001b[1;33m,\u001b[0m \u001b[0merrors\u001b[0m\u001b[1;33m=\u001b[0m\u001b[0merrors\u001b[0m\u001b[1;33m)\u001b[0m\u001b[1;33m\u001b[0m\u001b[1;33m\u001b[0m\u001b[0m\n\u001b[0;32m   4187\u001b[0m             \u001b[1;32melse\u001b[0m\u001b[1;33m:\u001b[0m\u001b[1;33m\u001b[0m\u001b[1;33m\u001b[0m\u001b[0m\n\u001b[1;32m-> 4188\u001b[1;33m                 \u001b[0mnew_axis\u001b[0m \u001b[1;33m=\u001b[0m \u001b[0maxis\u001b[0m\u001b[1;33m.\u001b[0m\u001b[0mdrop\u001b[0m\u001b[1;33m(\u001b[0m\u001b[0mlabels\u001b[0m\u001b[1;33m,\u001b[0m \u001b[0merrors\u001b[0m\u001b[1;33m=\u001b[0m\u001b[0merrors\u001b[0m\u001b[1;33m)\u001b[0m\u001b[1;33m\u001b[0m\u001b[1;33m\u001b[0m\u001b[0m\n\u001b[0m\u001b[0;32m   4189\u001b[0m             \u001b[0mresult\u001b[0m \u001b[1;33m=\u001b[0m \u001b[0mself\u001b[0m\u001b[1;33m.\u001b[0m\u001b[0mreindex\u001b[0m\u001b[1;33m(\u001b[0m\u001b[1;33m**\u001b[0m\u001b[1;33m{\u001b[0m\u001b[0maxis_name\u001b[0m\u001b[1;33m:\u001b[0m \u001b[0mnew_axis\u001b[0m\u001b[1;33m}\u001b[0m\u001b[1;33m)\u001b[0m\u001b[1;33m\u001b[0m\u001b[1;33m\u001b[0m\u001b[0m\n\u001b[0;32m   4190\u001b[0m \u001b[1;33m\u001b[0m\u001b[0m\n",
      "\u001b[1;32m~\\anaconda3\\envs\\tf2\\lib\\site-packages\\pandas\\core\\indexes\\base.py\u001b[0m in \u001b[0;36mdrop\u001b[1;34m(self, labels, errors)\u001b[0m\n\u001b[0;32m   5590\u001b[0m         \u001b[1;32mif\u001b[0m \u001b[0mmask\u001b[0m\u001b[1;33m.\u001b[0m\u001b[0many\u001b[0m\u001b[1;33m(\u001b[0m\u001b[1;33m)\u001b[0m\u001b[1;33m:\u001b[0m\u001b[1;33m\u001b[0m\u001b[1;33m\u001b[0m\u001b[0m\n\u001b[0;32m   5591\u001b[0m             \u001b[1;32mif\u001b[0m \u001b[0merrors\u001b[0m \u001b[1;33m!=\u001b[0m \u001b[1;34m\"ignore\"\u001b[0m\u001b[1;33m:\u001b[0m\u001b[1;33m\u001b[0m\u001b[1;33m\u001b[0m\u001b[0m\n\u001b[1;32m-> 5592\u001b[1;33m                 \u001b[1;32mraise\u001b[0m \u001b[0mKeyError\u001b[0m\u001b[1;33m(\u001b[0m\u001b[1;34mf\"{labels[mask]} not found in axis\"\u001b[0m\u001b[1;33m)\u001b[0m\u001b[1;33m\u001b[0m\u001b[1;33m\u001b[0m\u001b[0m\n\u001b[0m\u001b[0;32m   5593\u001b[0m             \u001b[0mindexer\u001b[0m \u001b[1;33m=\u001b[0m \u001b[0mindexer\u001b[0m\u001b[1;33m[\u001b[0m\u001b[1;33m~\u001b[0m\u001b[0mmask\u001b[0m\u001b[1;33m]\u001b[0m\u001b[1;33m\u001b[0m\u001b[1;33m\u001b[0m\u001b[0m\n\u001b[0;32m   5594\u001b[0m         \u001b[1;32mreturn\u001b[0m \u001b[0mself\u001b[0m\u001b[1;33m.\u001b[0m\u001b[0mdelete\u001b[0m\u001b[1;33m(\u001b[0m\u001b[0mindexer\u001b[0m\u001b[1;33m)\u001b[0m\u001b[1;33m\u001b[0m\u001b[1;33m\u001b[0m\u001b[0m\n",
      "\u001b[1;31mKeyError\u001b[0m: \"['Name'] not found in axis\""
     ]
    }
   ],
   "source": [
    "extractName(df_cat)"
   ]
  },
  {
   "cell_type": "code",
   "execution_count": 121,
   "metadata": {},
   "outputs": [
    {
     "ename": "AttributeError",
     "evalue": "'DataFrame' object has no attribute 'Title'",
     "output_type": "error",
     "traceback": [
      "\u001b[1;31m---------------------------------------------------------------------------\u001b[0m",
      "\u001b[1;31mAttributeError\u001b[0m                            Traceback (most recent call last)",
      "\u001b[1;32m<ipython-input-121-617599e24d0c>\u001b[0m in \u001b[0;36m<module>\u001b[1;34m\u001b[0m\n\u001b[1;32m----> 1\u001b[1;33m \u001b[0mdf_cat\u001b[0m\u001b[1;33m.\u001b[0m\u001b[0mTitle\u001b[0m\u001b[1;33m.\u001b[0m\u001b[0mvalue_counts\u001b[0m\u001b[1;33m(\u001b[0m\u001b[1;33m)\u001b[0m\u001b[1;33m\u001b[0m\u001b[1;33m\u001b[0m\u001b[0m\n\u001b[0m",
      "\u001b[1;32m~\\anaconda3\\envs\\tf2\\lib\\site-packages\\pandas\\core\\generic.py\u001b[0m in \u001b[0;36m__getattr__\u001b[1;34m(self, name)\u001b[0m\n\u001b[0;32m   5463\u001b[0m             \u001b[1;32mif\u001b[0m \u001b[0mself\u001b[0m\u001b[1;33m.\u001b[0m\u001b[0m_info_axis\u001b[0m\u001b[1;33m.\u001b[0m\u001b[0m_can_hold_identifiers_and_holds_name\u001b[0m\u001b[1;33m(\u001b[0m\u001b[0mname\u001b[0m\u001b[1;33m)\u001b[0m\u001b[1;33m:\u001b[0m\u001b[1;33m\u001b[0m\u001b[1;33m\u001b[0m\u001b[0m\n\u001b[0;32m   5464\u001b[0m                 \u001b[1;32mreturn\u001b[0m \u001b[0mself\u001b[0m\u001b[1;33m[\u001b[0m\u001b[0mname\u001b[0m\u001b[1;33m]\u001b[0m\u001b[1;33m\u001b[0m\u001b[1;33m\u001b[0m\u001b[0m\n\u001b[1;32m-> 5465\u001b[1;33m             \u001b[1;32mreturn\u001b[0m \u001b[0mobject\u001b[0m\u001b[1;33m.\u001b[0m\u001b[0m__getattribute__\u001b[0m\u001b[1;33m(\u001b[0m\u001b[0mself\u001b[0m\u001b[1;33m,\u001b[0m \u001b[0mname\u001b[0m\u001b[1;33m)\u001b[0m\u001b[1;33m\u001b[0m\u001b[1;33m\u001b[0m\u001b[0m\n\u001b[0m\u001b[0;32m   5466\u001b[0m \u001b[1;33m\u001b[0m\u001b[0m\n\u001b[0;32m   5467\u001b[0m     \u001b[1;32mdef\u001b[0m \u001b[0m__setattr__\u001b[0m\u001b[1;33m(\u001b[0m\u001b[0mself\u001b[0m\u001b[1;33m,\u001b[0m \u001b[0mname\u001b[0m\u001b[1;33m:\u001b[0m \u001b[0mstr\u001b[0m\u001b[1;33m,\u001b[0m \u001b[0mvalue\u001b[0m\u001b[1;33m)\u001b[0m \u001b[1;33m->\u001b[0m \u001b[1;32mNone\u001b[0m\u001b[1;33m:\u001b[0m\u001b[1;33m\u001b[0m\u001b[1;33m\u001b[0m\u001b[0m\n",
      "\u001b[1;31mAttributeError\u001b[0m: 'DataFrame' object has no attribute 'Title'"
     ]
    }
   ],
   "source": [
    "df_cat.Title.value_counts()"
   ]
  },
  {
   "cell_type": "code",
   "execution_count": 117,
   "metadata": {},
   "outputs": [],
   "source": [
    "unique = df_cat.Title.unique()"
   ]
  },
  {
   "cell_type": "code",
   "execution_count": 115,
   "metadata": {},
   "outputs": [],
   "source": [
    "df_cat.Title = df_cat.Title.replace(unique, 'Rare')"
   ]
  },
  {
   "cell_type": "code",
   "execution_count": 116,
   "metadata": {},
   "outputs": [
    {
     "data": {
      "text/plain": [
       "array(['Rare'], dtype=object)"
      ]
     },
     "execution_count": 116,
     "metadata": {},
     "output_type": "execute_result"
    }
   ],
   "source": [
    "df_cat.Title.unique()"
   ]
  },
  {
   "cell_type": "code",
   "execution_count": 111,
   "metadata": {},
   "outputs": [
    {
     "data": {
      "text/plain": [
       "['Don', 'Dona']"
      ]
     },
     "execution_count": 111,
     "metadata": {},
     "output_type": "execute_result"
    }
   ],
   "source": [
    "['Don', \"Dona\"]"
   ]
  },
  {
   "cell_type": "code",
   "execution_count": 105,
   "metadata": {},
   "outputs": [
    {
     "data": {
      "text/html": [
       "<div>\n",
       "<style scoped>\n",
       "    .dataframe tbody tr th:only-of-type {\n",
       "        vertical-align: middle;\n",
       "    }\n",
       "\n",
       "    .dataframe tbody tr th {\n",
       "        vertical-align: top;\n",
       "    }\n",
       "\n",
       "    .dataframe thead th {\n",
       "        text-align: right;\n",
       "    }\n",
       "</style>\n",
       "<table border=\"1\" class=\"dataframe\">\n",
       "  <thead>\n",
       "    <tr style=\"text-align: right;\">\n",
       "      <th></th>\n",
       "      <th>Survived</th>\n",
       "      <th>Pclass</th>\n",
       "      <th>Name</th>\n",
       "      <th>Sex</th>\n",
       "      <th>Age</th>\n",
       "      <th>SibSp</th>\n",
       "      <th>Parch</th>\n",
       "      <th>Fare</th>\n",
       "      <th>Cabin</th>\n",
       "      <th>Embarked</th>\n",
       "    </tr>\n",
       "  </thead>\n",
       "  <tbody>\n",
       "    <tr>\n",
       "      <th>0</th>\n",
       "      <td>0</td>\n",
       "      <td>3</td>\n",
       "      <td>Braund, Mr. Owen Harris</td>\n",
       "      <td>male</td>\n",
       "      <td>22.0</td>\n",
       "      <td>1</td>\n",
       "      <td>0</td>\n",
       "      <td>7.2500</td>\n",
       "      <td>NaN</td>\n",
       "      <td>S</td>\n",
       "    </tr>\n",
       "    <tr>\n",
       "      <th>1</th>\n",
       "      <td>1</td>\n",
       "      <td>1</td>\n",
       "      <td>Cumings, Mrs. John Bradley (Florence Briggs Th...</td>\n",
       "      <td>female</td>\n",
       "      <td>38.0</td>\n",
       "      <td>1</td>\n",
       "      <td>0</td>\n",
       "      <td>71.2833</td>\n",
       "      <td>C85</td>\n",
       "      <td>C</td>\n",
       "    </tr>\n",
       "    <tr>\n",
       "      <th>2</th>\n",
       "      <td>1</td>\n",
       "      <td>3</td>\n",
       "      <td>Heikkinen, Miss. Laina</td>\n",
       "      <td>female</td>\n",
       "      <td>26.0</td>\n",
       "      <td>0</td>\n",
       "      <td>0</td>\n",
       "      <td>7.9250</td>\n",
       "      <td>NaN</td>\n",
       "      <td>S</td>\n",
       "    </tr>\n",
       "    <tr>\n",
       "      <th>3</th>\n",
       "      <td>1</td>\n",
       "      <td>1</td>\n",
       "      <td>Futrelle, Mrs. Jacques Heath (Lily May Peel)</td>\n",
       "      <td>female</td>\n",
       "      <td>35.0</td>\n",
       "      <td>1</td>\n",
       "      <td>0</td>\n",
       "      <td>53.1000</td>\n",
       "      <td>C123</td>\n",
       "      <td>S</td>\n",
       "    </tr>\n",
       "    <tr>\n",
       "      <th>4</th>\n",
       "      <td>0</td>\n",
       "      <td>3</td>\n",
       "      <td>Allen, Mr. William Henry</td>\n",
       "      <td>male</td>\n",
       "      <td>35.0</td>\n",
       "      <td>0</td>\n",
       "      <td>0</td>\n",
       "      <td>8.0500</td>\n",
       "      <td>NaN</td>\n",
       "      <td>S</td>\n",
       "    </tr>\n",
       "  </tbody>\n",
       "</table>\n",
       "</div>"
      ],
      "text/plain": [
       "   Survived  Pclass                                               Name  \\\n",
       "0         0       3                            Braund, Mr. Owen Harris   \n",
       "1         1       1  Cumings, Mrs. John Bradley (Florence Briggs Th...   \n",
       "2         1       3                             Heikkinen, Miss. Laina   \n",
       "3         1       1       Futrelle, Mrs. Jacques Heath (Lily May Peel)   \n",
       "4         0       3                           Allen, Mr. William Henry   \n",
       "\n",
       "      Sex   Age  SibSp  Parch     Fare Cabin Embarked  \n",
       "0    male  22.0      1      0   7.2500   NaN        S  \n",
       "1  female  38.0      1      0  71.2833   C85        C  \n",
       "2  female  26.0      0      0   7.9250   NaN        S  \n",
       "3  female  35.0      1      0  53.1000  C123        S  \n",
       "4    male  35.0      0      0   8.0500   NaN        S  "
      ]
     },
     "execution_count": 105,
     "metadata": {},
     "output_type": "execute_result"
    }
   ],
   "source": [
    "strat_train.head()"
   ]
  },
  {
   "cell_type": "code",
   "execution_count": 73,
   "metadata": {},
   "outputs": [],
   "source": [
    "from sklearn.preprocessing import OneHotEncoder\n",
    "cat_encoder = OneHotEncoder()\n",
    "titanic_hot = cat_encoder.fit_transform(df_cat)"
   ]
  },
  {
   "cell_type": "code",
   "execution_count": 74,
   "metadata": {},
   "outputs": [
    {
     "data": {
      "text/plain": [
       "[array(['female', 'male'], dtype=object),\n",
       " array(['C', 'Q', 'S', nan], dtype=object)]"
      ]
     },
     "execution_count": 74,
     "metadata": {},
     "output_type": "execute_result"
    }
   ],
   "source": [
    "cat_encoder.categories_"
   ]
  },
  {
   "cell_type": "code",
   "execution_count": 10,
   "metadata": {},
   "outputs": [],
   "source": [
    "df_num = df_train[\"Age\"]"
   ]
  },
  {
   "cell_type": "code",
   "execution_count": 11,
   "metadata": {},
   "outputs": [],
   "source": [
    "from sklearn.base import BaseEstimator, TransformerMixin\n",
    "\n",
    "class SetReshape(BaseEstimator, TransformerMixin):\n",
    "    def __int__(self, add=True):\n",
    "        self.add=add\n",
    "    def fit(self, X, y=None):\n",
    "        return self\n",
    "    def transform(self, X):\n",
    "        return X.to_numpy().reshape(-1, 1)\n",
    "\n",
    "reshape = SetReshape()\n",
    "titanic_num_reshape = reshape.transform(titanic_num)"
   ]
  },
  {
   "cell_type": "code",
   "execution_count": 12,
   "metadata": {},
   "outputs": [],
   "source": [
    "titanic_num_reshape = reshape.transform(titanic_num)"
   ]
  },
  {
   "cell_type": "code",
   "execution_count": 13,
   "metadata": {},
   "outputs": [
    {
     "data": {
      "text/plain": [
       "SimpleImputer(strategy='median')"
      ]
     },
     "execution_count": 13,
     "metadata": {},
     "output_type": "execute_result"
    }
   ],
   "source": [
    "from sklearn.impute import SimpleImputer\n",
    "imputer = SimpleImputer(strategy=\"median\")\n",
    "imputer.fit(titanic_num_reshape)"
   ]
  },
  {
   "cell_type": "code",
   "execution_count": 14,
   "metadata": {},
   "outputs": [
    {
     "data": {
      "text/plain": [
       "array([28.])"
      ]
     },
     "execution_count": 14,
     "metadata": {},
     "output_type": "execute_result"
    }
   ],
   "source": [
    "imputer.statistics_"
   ]
  },
  {
   "cell_type": "code",
   "execution_count": 15,
   "metadata": {},
   "outputs": [],
   "source": [
    "from sklearn.pipeline import Pipeline\n",
    "from sklearn.preprocessing import StandardScaler\n",
    "from sklearn.impute import SimpleImputer\n",
    "\n",
    "num_pipeline = Pipeline([\n",
    "    ('reshape', reshape),\n",
    "    ('imputer', SimpleImputer(strategy=\"median\")),\n",
    "    ('std_scaler', StandardScaler()),\n",
    "])\n",
    "\n",
    "titanic_num_tr = num_pipeline.fit_transform(titanic_num)"
   ]
  },
  {
   "cell_type": "code",
   "execution_count": 16,
   "metadata": {},
   "outputs": [
    {
     "data": {
      "text/plain": [
       "array([[-0.56573646],\n",
       "       [ 0.66386103],\n",
       "       [-0.25833709],\n",
       "       [ 0.4333115 ],\n",
       "       [ 0.4333115 ],\n",
       "       [-0.1046374 ],\n",
       "       [ 1.89345853],\n",
       "       [-2.10273333],\n",
       "       [-0.18148724],\n",
       "       [-1.18053521],\n",
       "       [-1.94903364],\n",
       "       [ 2.2008579 ],\n",
       "       [-0.71943615],\n",
       "       [ 0.74071088],\n",
       "       [-1.18053521],\n",
       "       [ 1.97030837],\n",
       "       [-2.10273333],\n",
       "       [-0.1046374 ],\n",
       "       [ 0.12591213],\n",
       "       [-0.1046374 ],\n",
       "       [ 0.4333115 ],\n",
       "       [ 0.35646166],\n",
       "       [-1.10368536],\n",
       "       [-0.1046374 ],\n",
       "       [-1.64163427],\n",
       "       [ 0.66386103],\n",
       "       [-0.1046374 ],\n",
       "       [-0.79628599],\n",
       "       [-0.1046374 ],\n",
       "       [-0.1046374 ],\n",
       "       [ 0.81756072],\n",
       "       [-0.1046374 ],\n",
       "       [-0.1046374 ],\n",
       "       [ 2.81565665],\n",
       "       [-0.1046374 ],\n",
       "       [ 0.97126041],\n",
       "       [-0.1046374 ],\n",
       "       [-0.6425863 ],\n",
       "       [-0.87313583],\n",
       "       [-1.18053521],\n",
       "       [ 0.81756072],\n",
       "       [-0.18148724],\n",
       "       [-0.1046374 ],\n",
       "       [-2.02588348],\n",
       "       [-0.79628599],\n",
       "       [-0.1046374 ],\n",
       "       [-0.1046374 ],\n",
       "       [-0.1046374 ],\n",
       "       [-0.1046374 ],\n",
       "       [-0.87313583],\n",
       "       [-1.71848411],\n",
       "       [-0.6425863 ],\n",
       "       [ 1.50920931],\n",
       "       [-0.02778756],\n",
       "       [ 2.7388068 ],\n",
       "       [-0.1046374 ],\n",
       "       [-0.6425863 ],\n",
       "       [-0.06621248],\n",
       "       [-1.8721838 ],\n",
       "       [-1.41108474],\n",
       "       [-0.56573646],\n",
       "       [ 0.66386103],\n",
       "       [ 1.20180994],\n",
       "       [-1.94903364],\n",
       "       [-0.1046374 ],\n",
       "       [-0.1046374 ],\n",
       "       [-0.02778756],\n",
       "       [-0.79628599],\n",
       "       [-0.94998568],\n",
       "       [-0.25833709],\n",
       "       [ 0.20276197],\n",
       "       [-1.02683552],\n",
       "       [-0.6425863 ],\n",
       "       [-0.25833709],\n",
       "       [ 0.20276197],\n",
       "       [-0.33518693],\n",
       "       [-0.1046374 ],\n",
       "       [-0.1046374 ],\n",
       "       [-2.19264764],\n",
       "       [ 0.04906229],\n",
       "       [-0.56573646],\n",
       "       [-0.02778756],\n",
       "       [-0.1046374 ],\n",
       "       [-0.1046374 ],\n",
       "       [-0.94998568],\n",
       "       [ 0.27961182],\n",
       "       [-1.02683552],\n",
       "       [-0.1046374 ],\n",
       "       [-0.48888662],\n",
       "       [-0.41203677],\n",
       "       [-0.02778756],\n",
       "       [-0.71943615],\n",
       "       [ 1.27865978],\n",
       "       [-0.25833709],\n",
       "       [ 2.27770774],\n",
       "       [-0.1046374 ],\n",
       "       [ 3.19990586],\n",
       "       [-0.48888662],\n",
       "       [ 0.35646166],\n",
       "       [ 0.35646166],\n",
       "       [-0.1046374 ],\n",
       "       [-0.1046374 ],\n",
       "       [-0.6425863 ],\n",
       "       [ 0.27961182],\n",
       "       [ 0.58701119],\n",
       "       [-0.1046374 ],\n",
       "       [-0.6425863 ],\n",
       "       [-0.1046374 ],\n",
       "       [ 0.66386103],\n",
       "       [-0.1046374 ],\n",
       "       [ 1.35550962],\n",
       "       [-1.14211029],\n",
       "       [-0.56573646],\n",
       "       [-0.71943615],\n",
       "       [-0.94998568],\n",
       "       [-0.6425863 ],\n",
       "       [ 3.16148094],\n",
       "       [-0.02778756],\n",
       "       [-0.41203677],\n",
       "       [-2.10273333],\n",
       "       [-0.6425863 ],\n",
       "       [-0.1046374 ],\n",
       "       [ 0.24118689],\n",
       "       [ 0.24118689],\n",
       "       [ 1.89345853],\n",
       "       [-1.33423489],\n",
       "       [-0.1046374 ],\n",
       "       [-0.41203677],\n",
       "       [-0.1046374 ],\n",
       "       [ 1.20180994],\n",
       "       [ 0.27961182],\n",
       "       [-0.71943615],\n",
       "       [ 1.35550962],\n",
       "       [-0.02778756],\n",
       "       [-0.33518693],\n",
       "       [-0.48888662],\n",
       "       [-0.79628599],\n",
       "       [ 0.58701119],\n",
       "       [-1.02683552],\n",
       "       [-0.41203677],\n",
       "       [-0.1046374 ],\n",
       "       [-0.56573646],\n",
       "       [-0.41203677],\n",
       "       [-0.79628599],\n",
       "       [-0.87313583],\n",
       "       [-0.79628599],\n",
       "       [-0.18148724],\n",
       "       [-1.56478442],\n",
       "       [ 0.54858627],\n",
       "       [ 0.97126041],\n",
       "       [ 1.662909  ],\n",
       "       [-0.56573646],\n",
       "       [ 2.00873329],\n",
       "       [ 0.85598564],\n",
       "       [-0.1046374 ],\n",
       "       [ 1.662909  ],\n",
       "       [-1.02683552],\n",
       "       [ 0.04906229],\n",
       "       [-0.1046374 ],\n",
       "       [-0.1046374 ],\n",
       "       [ 1.12496009],\n",
       "       [ 0.81756072],\n",
       "       [-0.25833709],\n",
       "       [-0.94998568],\n",
       "       [-2.17958317],\n",
       "       [-1.56478442],\n",
       "       [-0.1046374 ],\n",
       "       [ 1.20180994],\n",
       "       [-0.1046374 ],\n",
       "       [-0.1046374 ],\n",
       "       [ 2.43140743],\n",
       "       [-1.94903364],\n",
       "       [-2.17958317],\n",
       "       [-0.6425863 ],\n",
       "       [ 2.04715821],\n",
       "       [-0.87313583],\n",
       "       [-0.1046374 ],\n",
       "       [ 1.58605915],\n",
       "       [ 0.04906229],\n",
       "       [ 0.51016135],\n",
       "       [-0.1046374 ],\n",
       "       [-0.1046374 ],\n",
       "       [-1.56478442],\n",
       "       [-2.17958317],\n",
       "       [-1.94903364],\n",
       "       [-0.1046374 ],\n",
       "       [-0.1046374 ],\n",
       "       [ 1.20180994],\n",
       "       [ 0.81756072],\n",
       "       [ 0.51016135],\n",
       "       [ 0.20276197],\n",
       "       [-0.79628599],\n",
       "       [-0.79628599],\n",
       "       [-2.02588348],\n",
       "       [ 1.12496009],\n",
       "       [ 2.2008579 ],\n",
       "       [-0.1046374 ],\n",
       "       [ 0.97126041],\n",
       "       [-0.1046374 ],\n",
       "       [-0.41203677],\n",
       "       [-0.1046374 ],\n",
       "       [-0.1046374 ],\n",
       "       [ 0.35646166],\n",
       "       [ 1.24023486],\n",
       "       [-0.87313583],\n",
       "       [-2.10273333],\n",
       "       [ 0.20276197],\n",
       "       [-0.25833709],\n",
       "       [-1.02683552],\n",
       "       [ 0.81756072],\n",
       "       [-0.41203677],\n",
       "       [ 0.4333115 ],\n",
       "       [-0.56573646],\n",
       "       [ 0.04906229],\n",
       "       [-0.1046374 ],\n",
       "       [ 0.12591213],\n",
       "       [-0.18148724],\n",
       "       [ 0.97126041],\n",
       "       [ 0.20276197],\n",
       "       [ 0.04906229],\n",
       "       [-1.02683552],\n",
       "       [-0.18148724],\n",
       "       [ 1.662909  ],\n",
       "       [-0.1046374 ],\n",
       "       [ 0.66386103],\n",
       "       [-0.56573646],\n",
       "       [-0.79628599],\n",
       "       [-0.68101123],\n",
       "       [-0.87313583],\n",
       "       [-0.1046374 ],\n",
       "       [ 0.4333115 ],\n",
       "       [-0.02778756],\n",
       "       [ 2.27770774],\n",
       "       [-1.8721838 ],\n",
       "       [-0.41203677],\n",
       "       [-0.1046374 ],\n",
       "       [ 1.12496009],\n",
       "       [-1.64163427],\n",
       "       [-0.79628599],\n",
       "       [ 0.27961182],\n",
       "       [-0.1046374 ],\n",
       "       [-0.1046374 ],\n",
       "       [-0.02778756],\n",
       "       [-0.56573646],\n",
       "       [ 0.04906229],\n",
       "       [ 1.12496009],\n",
       "       [-0.33518693],\n",
       "       [-0.41203677],\n",
       "       [ 0.58701119],\n",
       "       [ 1.89345853],\n",
       "       [-0.1046374 ],\n",
       "       [-0.02778756],\n",
       "       [ 2.50825727],\n",
       "       [ 0.04906229],\n",
       "       [ 0.89441056],\n",
       "       [-0.02778756],\n",
       "       [-0.1046374 ],\n",
       "       [ 0.04906229],\n",
       "       [ 0.4333115 ],\n",
       "       [ 1.58605915],\n",
       "       [-0.1046374 ],\n",
       "       [-2.02588348],\n",
       "       [ 1.73975884],\n",
       "       [ 0.81756072],\n",
       "       [-0.1046374 ],\n",
       "       [ 0.51016135],\n",
       "       [-1.02683552],\n",
       "       [-0.33518693],\n",
       "       [ 2.2008579 ],\n",
       "       [ 0.4333115 ],\n",
       "       [-0.1046374 ],\n",
       "       [-0.33518693],\n",
       "       [ 0.89441056],\n",
       "       [ 0.58701119],\n",
       "       [-0.1046374 ],\n",
       "       [ 2.58510712],\n",
       "       [ 1.20180994],\n",
       "       [-0.1046374 ],\n",
       "       [-1.71848411],\n",
       "       [ 0.4333115 ],\n",
       "       [ 2.7388068 ],\n",
       "       [-0.1046374 ],\n",
       "       [-1.02683552],\n",
       "       [-0.79628599],\n",
       "       [-0.1046374 ],\n",
       "       [ 0.27961182],\n",
       "       [ 0.04906229],\n",
       "       [-0.56573646],\n",
       "       [ 0.97126041],\n",
       "       [-0.56573646],\n",
       "       [-0.25833709],\n",
       "       [-0.79628599],\n",
       "       [ 0.51016135],\n",
       "       [-0.41203677],\n",
       "       [-0.41203677],\n",
       "       [-0.1046374 ],\n",
       "       [-0.4504617 ],\n",
       "       [-2.10273333],\n",
       "       [-0.1046374 ],\n",
       "       [ 1.58605915],\n",
       "       [-0.1046374 ],\n",
       "       [-0.1046374 ],\n",
       "       [-0.79628599],\n",
       "       [-0.1046374 ],\n",
       "       [-0.1046374 ],\n",
       "       [-2.18573116],\n",
       "       [-0.1046374 ],\n",
       "       [-0.94998568],\n",
       "       [ 0.04906229],\n",
       "       [ 0.04906229],\n",
       "       [-0.41203677],\n",
       "       [-0.87313583],\n",
       "       [-0.25833709],\n",
       "       [-0.1046374 ],\n",
       "       [ 1.04811025],\n",
       "       [-0.25833709],\n",
       "       [-0.41203677],\n",
       "       [ 1.89345853],\n",
       "       [ 0.12591213],\n",
       "       [ 0.81756072],\n",
       "       [-0.56573646],\n",
       "       [-0.18148724],\n",
       "       [ 0.04906229],\n",
       "       [-0.56573646],\n",
       "       [-0.1046374 ],\n",
       "       [ 0.51016135],\n",
       "       [ 2.43140743],\n",
       "       [ 0.51016135],\n",
       "       [ 0.12591213],\n",
       "       [-1.02683552],\n",
       "       [-0.1046374 ],\n",
       "       [ 1.24023486],\n",
       "       [ 0.66386103],\n",
       "       [-1.02683552],\n",
       "       [-0.1046374 ],\n",
       "       [-0.1046374 ],\n",
       "       [-0.02778756],\n",
       "       [ 0.89441056],\n",
       "       [ 1.20180994],\n",
       "       [ 1.20180994],\n",
       "       [-2.10273333],\n",
       "       [-0.41203677],\n",
       "       [-0.1046374 ],\n",
       "       [-0.33518693],\n",
       "       [ 0.51016135],\n",
       "       [-0.41203677],\n",
       "       [ 0.81756072],\n",
       "       [-0.1046374 ],\n",
       "       [-2.02588348],\n",
       "       [ 0.97126041],\n",
       "       [-0.48888662],\n",
       "       [-0.1046374 ],\n",
       "       [-1.10368536],\n",
       "       [-0.33518693],\n",
       "       [-0.1046374 ],\n",
       "       [-0.1046374 ],\n",
       "       [-0.56573646],\n",
       "       [ 0.66386103],\n",
       "       [-0.1046374 ],\n",
       "       [-0.1046374 ],\n",
       "       [ 0.81756072],\n",
       "       [-0.02778756],\n",
       "       [ 1.20180994],\n",
       "       [ 0.4333115 ],\n",
       "       [-0.1046374 ],\n",
       "       [ 0.04906229],\n",
       "       [ 2.35455759],\n",
       "       [-0.1046374 ],\n",
       "       [-0.1046374 ],\n",
       "       [-0.41203677],\n",
       "       [-0.33518693],\n",
       "       [-0.87313583],\n",
       "       [-0.79628599],\n",
       "       [-0.56573646],\n",
       "       [-2.02588348],\n",
       "       [-0.1046374 ],\n",
       "       [-0.56573646],\n",
       "       [-0.18148724],\n",
       "       [-0.71943615],\n",
       "       [-0.79628599],\n",
       "       [ 0.97126041],\n",
       "       [-2.17958317],\n",
       "       [ 0.20276197],\n",
       "       [ 0.4333115 ],\n",
       "       [-0.1046374 ],\n",
       "       [-0.87313583],\n",
       "       [-2.17958317],\n",
       "       [ 0.51016135],\n",
       "       [-0.1046374 ],\n",
       "       [-0.94998568],\n",
       "       [ 0.51016135],\n",
       "       [-0.6425863 ],\n",
       "       [-0.1046374 ],\n",
       "       [-0.48888662],\n",
       "       [-0.41203677],\n",
       "       [-0.56573646],\n",
       "       [ 0.12591213],\n",
       "       [ 1.27865978],\n",
       "       [-0.48888662],\n",
       "       [-0.1046374 ],\n",
       "       [ 0.74071088],\n",
       "       [-0.25833709],\n",
       "       [-0.6425863 ],\n",
       "       [-0.1046374 ],\n",
       "       [-0.71943615],\n",
       "       [ 0.35646166],\n",
       "       [ 1.662909  ],\n",
       "       [-2.02588348],\n",
       "       [-0.6425863 ],\n",
       "       [-0.1046374 ],\n",
       "       [-0.1046374 ],\n",
       "       [-0.1046374 ],\n",
       "       [ 0.27961182],\n",
       "       [-0.1046374 ],\n",
       "       [ 1.12496009],\n",
       "       [-0.1046374 ],\n",
       "       [ 0.35646166],\n",
       "       [-0.87313583],\n",
       "       [ 0.04906229],\n",
       "       [-1.48793458],\n",
       "       [-0.1046374 ],\n",
       "       [-0.6425863 ],\n",
       "       [-0.02778756],\n",
       "       [-0.1046374 ],\n",
       "       [-0.87313583],\n",
       "       [-0.1046374 ],\n",
       "       [-0.1046374 ],\n",
       "       [-0.79628599],\n",
       "       [-0.1046374 ],\n",
       "       [ 0.20276197],\n",
       "       [-0.1046374 ],\n",
       "       [-0.1046374 ],\n",
       "       [ 0.97126041],\n",
       "       [-0.94998568],\n",
       "       [ 1.58605915],\n",
       "       [-1.18053521],\n",
       "       [-0.6425863 ],\n",
       "       [-0.41203677],\n",
       "       [ 2.66195696],\n",
       "       [ 0.12591213],\n",
       "       [ 1.20180994],\n",
       "       [-0.71943615],\n",
       "       [-0.33518693],\n",
       "       [-0.1046374 ],\n",
       "       [-0.1046374 ],\n",
       "       [-1.94903364],\n",
       "       [-1.25738505],\n",
       "       [ 0.35646166],\n",
       "       [-1.8721838 ],\n",
       "       [ 1.73975884],\n",
       "       [ 0.51016135],\n",
       "       [-0.1046374 ],\n",
       "       [ 0.04906229],\n",
       "       [ 1.50920931],\n",
       "       [-0.1046374 ],\n",
       "       [-0.02778756],\n",
       "       [ 2.7388068 ],\n",
       "       [-0.1046374 ],\n",
       "       [ 1.58605915],\n",
       "       [-0.1046374 ],\n",
       "       [ 1.43235947],\n",
       "       [ 0.35646166],\n",
       "       [ 1.35550962],\n",
       "       [ 1.43235947],\n",
       "       [-0.1046374 ],\n",
       "       [ 0.66386103],\n",
       "       [-0.1046374 ],\n",
       "       [ 2.04715821],\n",
       "       [-0.1046374 ],\n",
       "       [-2.19879563],\n",
       "       [-0.1046374 ],\n",
       "       [ 0.66386103],\n",
       "       [ 0.27961182],\n",
       "       [-0.48888662],\n",
       "       [-0.56573646],\n",
       "       [-0.1046374 ],\n",
       "       [ 0.35646166],\n",
       "       [-0.02778756],\n",
       "       [-0.56573646],\n",
       "       [-2.10273333],\n",
       "       [-1.56478442],\n",
       "       [-0.1046374 ],\n",
       "       [ 1.58605915],\n",
       "       [ 2.58510712],\n",
       "       [-0.33518693],\n",
       "       [-0.1046374 ],\n",
       "       [ 0.4333115 ],\n",
       "       [ 2.2008579 ],\n",
       "       [ 0.04906229],\n",
       "       [-1.56478442],\n",
       "       [-0.1046374 ],\n",
       "       [-0.6425863 ],\n",
       "       [ 1.97030837],\n",
       "       [ 3.19990586],\n",
       "       [-0.6425863 ],\n",
       "       [-0.1046374 ],\n",
       "       [ 1.89345853],\n",
       "       [-0.1046374 ],\n",
       "       [-0.33518693],\n",
       "       [-0.41203677],\n",
       "       [-0.94998568],\n",
       "       [-0.6425863 ],\n",
       "       [-0.1046374 ],\n",
       "       [ 0.58701119],\n",
       "       [-1.02683552],\n",
       "       [-0.87313583],\n",
       "       [ 0.27961182],\n",
       "       [-0.1046374 ],\n",
       "       [-0.1046374 ],\n",
       "       [-0.25833709],\n",
       "       [-0.02778756],\n",
       "       [-0.1046374 ],\n",
       "       [ 0.51016135],\n",
       "       [ 1.89345853],\n",
       "       [-0.41203677],\n",
       "       [ 1.35550962],\n",
       "       [ 0.35646166],\n",
       "       [-0.1046374 ],\n",
       "       [ 0.51016135],\n",
       "       [ 0.20276197],\n",
       "       [ 0.04906229],\n",
       "       [-0.56573646],\n",
       "       [-0.1046374 ],\n",
       "       [ 1.12496009],\n",
       "       [-0.1046374 ],\n",
       "       [ 0.85598564],\n",
       "       [ 1.58605915],\n",
       "       [-0.1046374 ],\n",
       "       [ 0.74071088],\n",
       "       [-0.48888662],\n",
       "       [-2.10273333],\n",
       "       [-0.1046374 ],\n",
       "       [-0.94998568],\n",
       "       [-0.1046374 ],\n",
       "       [ 0.04906229],\n",
       "       [-1.71848411],\n",
       "       [ 1.20180994],\n",
       "       [ 0.04906229],\n",
       "       [-0.1046374 ],\n",
       "       [-0.56573646],\n",
       "       [ 0.51016135],\n",
       "       [-1.56478442],\n",
       "       [-1.41108474],\n",
       "       [ 0.20276197],\n",
       "       [ 1.58605915],\n",
       "       [ 2.66195696],\n",
       "       [-0.79628599],\n",
       "       [-0.1046374 ],\n",
       "       [ 0.27961182],\n",
       "       [-1.64163427],\n",
       "       [-0.94998568],\n",
       "       [-0.18148724],\n",
       "       [-0.1046374 ],\n",
       "       [-0.56573646],\n",
       "       [-0.56573646],\n",
       "       [ 2.50825727],\n",
       "       [ 1.43235947],\n",
       "       [-0.1046374 ],\n",
       "       [ 0.74071088],\n",
       "       [ 0.51016135],\n",
       "       [-0.1046374 ],\n",
       "       [ 0.81756072],\n",
       "       [-0.1046374 ],\n",
       "       [-0.1046374 ],\n",
       "       [-0.1046374 ],\n",
       "       [-0.41203677],\n",
       "       [-0.79628599],\n",
       "       [-0.02778756],\n",
       "       [-0.1046374 ],\n",
       "       [ 0.20276197],\n",
       "       [ 2.50825727],\n",
       "       [ 1.81660868],\n",
       "       [ 0.51016135],\n",
       "       [-0.1046374 ],\n",
       "       [-1.02683552],\n",
       "       [-0.79628599],\n",
       "       [ 0.35646166],\n",
       "       [ 0.74071088],\n",
       "       [-0.1046374 ],\n",
       "       [ 0.20276197],\n",
       "       [-0.33518693],\n",
       "       [ 0.74071088],\n",
       "       [ 1.89345853],\n",
       "       [ 0.51016135],\n",
       "       [-0.1046374 ],\n",
       "       [-0.87313583],\n",
       "       [ 1.35550962],\n",
       "       [ 2.35455759],\n",
       "       [-0.56573646],\n",
       "       [-0.1046374 ],\n",
       "       [ 0.4333115 ],\n",
       "       [ 1.73975884],\n",
       "       [ 1.35550962],\n",
       "       [-0.1046374 ],\n",
       "       [ 0.58701119],\n",
       "       [ 0.51016135],\n",
       "       [-0.1046374 ],\n",
       "       [ 1.50920931],\n",
       "       [-0.1046374 ],\n",
       "       [ 1.50920931],\n",
       "       [-0.41203677],\n",
       "       [-0.1046374 ],\n",
       "       [-0.1046374 ],\n",
       "       [ 1.12496009],\n",
       "       [ 0.4333115 ],\n",
       "       [ 0.51016135],\n",
       "       [ 0.04906229],\n",
       "       [-0.18148724],\n",
       "       [-0.56573646],\n",
       "       [ 0.81756072],\n",
       "       [ 0.74071088],\n",
       "       [-0.1046374 ],\n",
       "       [-0.1046374 ],\n",
       "       [-0.1046374 ],\n",
       "       [ 0.4333115 ],\n",
       "       [-0.41203677],\n",
       "       [ 0.35646166],\n",
       "       [-0.25833709],\n",
       "       [-1.94903364],\n",
       "       [-0.25833709],\n",
       "       [-0.18148724],\n",
       "       [ 0.97126041],\n",
       "       [-0.71943615],\n",
       "       [-0.6425863 ],\n",
       "       [-0.6425863 ],\n",
       "       [ 2.43140743],\n",
       "       [ 2.12400806],\n",
       "       [-0.6425863 ],\n",
       "       [-0.25833709],\n",
       "       [-0.1046374 ],\n",
       "       [ 3.89155445],\n",
       "       [ 1.662909  ],\n",
       "       [ 0.20276197],\n",
       "       [-0.1046374 ],\n",
       "       [-1.56478442],\n",
       "       [-0.1046374 ],\n",
       "       [ 0.20276197],\n",
       "       [ 0.12591213],\n",
       "       [ 0.89441056],\n",
       "       [-0.1046374 ],\n",
       "       [-0.71943615],\n",
       "       [-0.41203677],\n",
       "       [-2.10273333],\n",
       "       [-0.1046374 ],\n",
       "       [-2.19879563],\n",
       "       [ 1.43235947],\n",
       "       [-0.79628599],\n",
       "       [ 2.04715821],\n",
       "       [-0.1046374 ],\n",
       "       [-0.48888662],\n",
       "       [-0.1046374 ],\n",
       "       [-0.87313583],\n",
       "       [-0.6425863 ],\n",
       "       [-0.1046374 ],\n",
       "       [-0.87313583],\n",
       "       [-0.41203677],\n",
       "       [-0.1046374 ],\n",
       "       [ 0.20276197],\n",
       "       [-0.48888662],\n",
       "       [ 2.2008579 ],\n",
       "       [ 1.58605915],\n",
       "       [ 0.81756072],\n",
       "       [ 1.35550962],\n",
       "       [ 0.51016135],\n",
       "       [-0.71943615],\n",
       "       [ 0.20276197],\n",
       "       [-0.33518693],\n",
       "       [-0.1046374 ],\n",
       "       [ 1.04811025],\n",
       "       [-0.1046374 ],\n",
       "       [ 0.81756072],\n",
       "       [ 0.12591213],\n",
       "       [ 3.12305602],\n",
       "       [ 0.12591213],\n",
       "       [-0.1046374 ],\n",
       "       [-0.87313583],\n",
       "       [-0.37361185],\n",
       "       [-0.87313583],\n",
       "       [ 1.04811025],\n",
       "       [ 0.51016135],\n",
       "       [-0.1046374 ],\n",
       "       [-0.18148724],\n",
       "       [-0.71943615],\n",
       "       [-1.18053521],\n",
       "       [ 2.35455759],\n",
       "       [-0.33518693],\n",
       "       [-1.18053521],\n",
       "       [-0.79628599],\n",
       "       [-0.87313583],\n",
       "       [-1.10368536],\n",
       "       [ 0.12591213],\n",
       "       [-1.94903364],\n",
       "       [-0.1046374 ],\n",
       "       [-0.33518693],\n",
       "       [ 2.35455759],\n",
       "       [ 1.73975884],\n",
       "       [ 1.12496009],\n",
       "       [-0.1046374 ],\n",
       "       [ 1.50920931],\n",
       "       [ 0.97126041],\n",
       "       [-0.87313583],\n",
       "       [ 0.4333115 ],\n",
       "       [-0.87313583],\n",
       "       [-0.33518693],\n",
       "       [-0.25833709],\n",
       "       [ 0.74071088],\n",
       "       [ 1.20180994],\n",
       "       [ 0.97126041],\n",
       "       [-0.56573646],\n",
       "       [-0.1046374 ],\n",
       "       [-0.41203677],\n",
       "       [-0.1046374 ],\n",
       "       [ 1.43235947],\n",
       "       [-0.02778756],\n",
       "       [ 1.73975884],\n",
       "       [-0.79628599],\n",
       "       [ 0.66386103],\n",
       "       [-0.18148724],\n",
       "       [-0.1046374 ],\n",
       "       [ 0.27961182],\n",
       "       [-1.79533395],\n",
       "       [-0.94998568],\n",
       "       [ 0.35646166],\n",
       "       [ 1.58605915],\n",
       "       [-0.18148724],\n",
       "       [-0.71943615],\n",
       "       [ 0.04906229],\n",
       "       [-0.1046374 ],\n",
       "       [-0.33518693],\n",
       "       [-0.33518693],\n",
       "       [-0.02778756],\n",
       "       [-1.41108474],\n",
       "       [-0.1046374 ],\n",
       "       [-0.48888662],\n",
       "       [-0.48888662],\n",
       "       [-0.06621248],\n",
       "       [ 1.43235947],\n",
       "       [ 0.4333115 ],\n",
       "       [-0.1046374 ],\n",
       "       [-0.1046374 ],\n",
       "       [-0.1046374 ],\n",
       "       [ 0.51016135],\n",
       "       [-0.6425863 ],\n",
       "       [-0.41203677],\n",
       "       [ 0.12591213],\n",
       "       [ 3.12305602],\n",
       "       [-1.02683552],\n",
       "       [ 0.04906229],\n",
       "       [-0.79628599],\n",
       "       [ 0.12591213],\n",
       "       [-1.94903364],\n",
       "       [-1.79533395],\n",
       "       [ 0.27961182],\n",
       "       [-0.48888662],\n",
       "       [ 1.43235947],\n",
       "       [-2.20494362],\n",
       "       [-0.1046374 ],\n",
       "       [-0.87313583],\n",
       "       [ 0.35646166],\n",
       "       [ 0.27961182],\n",
       "       [-0.1046374 ],\n",
       "       [ 0.89441056],\n",
       "       [-0.71943615],\n",
       "       [ 0.51016135],\n",
       "       [-1.02683552],\n",
       "       [ 1.662909  ],\n",
       "       [-0.1046374 ],\n",
       "       [ 0.08748721],\n",
       "       [-0.1046374 ],\n",
       "       [ 0.20276197],\n",
       "       [-0.41203677],\n",
       "       [ 1.43235947],\n",
       "       [ 2.12400806],\n",
       "       [-0.1046374 ],\n",
       "       [ 1.89345853],\n",
       "       [-0.87313583],\n",
       "       [-0.1046374 ],\n",
       "       [-1.8721838 ],\n",
       "       [-0.1046374 ],\n",
       "       [ 1.04811025],\n",
       "       [-1.25738505],\n",
       "       [-0.94998568],\n",
       "       [-0.02778756],\n",
       "       [-0.1046374 ],\n",
       "       [-0.33518693],\n",
       "       [-0.33518693],\n",
       "       [-0.87313583],\n",
       "       [-1.64163427],\n",
       "       [-2.17958317],\n",
       "       [ 1.27865978],\n",
       "       [-0.1046374 ],\n",
       "       [-1.02683552],\n",
       "       [-0.1046374 ],\n",
       "       [-0.1046374 ],\n",
       "       [-0.33518693],\n",
       "       [ 0.74071088],\n",
       "       [ 1.50920931],\n",
       "       [ 0.12591213],\n",
       "       [ 0.04906229],\n",
       "       [ 0.04906229],\n",
       "       [ 0.35646166],\n",
       "       [ 0.12591213],\n",
       "       [-1.41108474],\n",
       "       [-2.22415608],\n",
       "       [-0.18148724],\n",
       "       [ 0.12591213],\n",
       "       [ 0.74071088],\n",
       "       [-0.87313583],\n",
       "       [ 0.74071088],\n",
       "       [ 0.27961182],\n",
       "       [-0.25833709],\n",
       "       [ 0.74071088],\n",
       "       [ 0.4333115 ],\n",
       "       [-1.79533395],\n",
       "       [ 0.08748721],\n",
       "       [-0.1046374 ],\n",
       "       [-0.48888662],\n",
       "       [ 0.12591213],\n",
       "       [ 1.04811025],\n",
       "       [-1.48793458],\n",
       "       [ 1.73975884],\n",
       "       [-0.18148724],\n",
       "       [ 0.66386103],\n",
       "       [-0.18148724],\n",
       "       [-2.10273333],\n",
       "       [-0.1046374 ],\n",
       "       [-0.1046374 ],\n",
       "       [-2.17958317],\n",
       "       [-0.1046374 ],\n",
       "       [ 2.50825727],\n",
       "       [-1.10368536],\n",
       "       [-2.19264764],\n",
       "       [-0.1046374 ],\n",
       "       [-0.48888662],\n",
       "       [-0.87313583],\n",
       "       [ 0.74071088],\n",
       "       [-0.6425863 ],\n",
       "       [-0.1046374 ],\n",
       "       [ 0.20276197],\n",
       "       [-0.1046374 ],\n",
       "       [-0.71943615],\n",
       "       [-1.02683552],\n",
       "       [ 0.04906229],\n",
       "       [ 0.39488658],\n",
       "       [-0.94998568],\n",
       "       [ 0.97126041],\n",
       "       [-0.1046374 ],\n",
       "       [ 0.4333115 ],\n",
       "       [-0.1046374 ],\n",
       "       [-0.1046374 ],\n",
       "       [-1.94903364],\n",
       "       [ 3.43045539],\n",
       "       [-1.56478442],\n",
       "       [-1.02683552],\n",
       "       [ 1.12496009],\n",
       "       [-0.87313583],\n",
       "       [ 1.20180994],\n",
       "       [ 1.662909  ],\n",
       "       [-0.41203677],\n",
       "       [-0.1046374 ],\n",
       "       [ 0.89441056],\n",
       "       [-0.6425863 ],\n",
       "       [ 1.43235947],\n",
       "       [-0.1046374 ],\n",
       "       [-0.41203677],\n",
       "       [ 0.97126041],\n",
       "       [-0.18148724],\n",
       "       [ 0.12591213],\n",
       "       [-0.1046374 ],\n",
       "       [-1.94903364],\n",
       "       [-0.25833709],\n",
       "       [ 1.35550962],\n",
       "       [ 0.27961182],\n",
       "       [ 1.35550962],\n",
       "       [-0.1046374 ],\n",
       "       [-1.10368536],\n",
       "       [-0.71943615],\n",
       "       [-0.79628599],\n",
       "       [-0.1046374 ],\n",
       "       [ 2.04715821],\n",
       "       [-0.33518693],\n",
       "       [ 0.27961182],\n",
       "       [-0.56573646],\n",
       "       [-0.1046374 ],\n",
       "       [-0.33518693],\n",
       "       [ 0.74071088],\n",
       "       [-0.18148724],\n",
       "       [-0.79628599],\n",
       "       [-0.1046374 ],\n",
       "       [-0.25833709],\n",
       "       [ 0.20276197]])"
      ]
     },
     "execution_count": 16,
     "metadata": {},
     "output_type": "execute_result"
    }
   ],
   "source": [
    "titanic_num_tr"
   ]
  },
  {
   "cell_type": "code",
   "execution_count": 17,
   "metadata": {},
   "outputs": [],
   "source": [
    "from sklearn.compose import ColumnTransformer\n",
    "num_atrribs = [\"Age\"]\n",
    "cat_attribs = list(titanic_cat)\n",
    "\n",
    "\n",
    "full_pipeline = ColumnTransformer([\n",
    "    (\"num\", num_pipeline, num_atrribs),\n",
    "    (\"cat\", OneHotEncoder(), cat_attribs),\n",
    "\n",
    "])\n",
    "\n",
    "titanic_prepared = full_pipeline.fit_transform(titanic)"
   ]
  },
  {
   "cell_type": "code",
   "execution_count": 18,
   "metadata": {},
   "outputs": [
    {
     "data": {
      "text/plain": [
       "(891, 6)"
      ]
     },
     "execution_count": 18,
     "metadata": {},
     "output_type": "execute_result"
    }
   ],
   "source": [
    "titanic_prepared.shape"
   ]
  },
  {
   "cell_type": "code",
   "execution_count": 19,
   "metadata": {},
   "outputs": [
    {
     "data": {
      "text/plain": [
       "LogisticRegression()"
      ]
     },
     "execution_count": 19,
     "metadata": {},
     "output_type": "execute_result"
    }
   ],
   "source": [
    "from sklearn.linear_model import LogisticRegression\n",
    "\n",
    "lin_reg = LogisticRegression()\n",
    "lin_reg.fit(titanic_prepared, titanic_labels)"
   ]
  },
  {
   "cell_type": "code",
   "execution_count": 20,
   "metadata": {},
   "outputs": [],
   "source": [
    "some_data = titanic.iloc[:5]\n",
    "some_labels = titanic_labels.iloc[:5]"
   ]
  },
  {
   "cell_type": "code",
   "execution_count": 21,
   "metadata": {},
   "outputs": [
    {
     "data": {
      "text/html": [
       "<div>\n",
       "<style scoped>\n",
       "    .dataframe tbody tr th:only-of-type {\n",
       "        vertical-align: middle;\n",
       "    }\n",
       "\n",
       "    .dataframe tbody tr th {\n",
       "        vertical-align: top;\n",
       "    }\n",
       "\n",
       "    .dataframe thead th {\n",
       "        text-align: right;\n",
       "    }\n",
       "</style>\n",
       "<table border=\"1\" class=\"dataframe\">\n",
       "  <thead>\n",
       "    <tr style=\"text-align: right;\">\n",
       "      <th></th>\n",
       "      <th>Pclass</th>\n",
       "      <th>Sex</th>\n",
       "      <th>Age</th>\n",
       "    </tr>\n",
       "  </thead>\n",
       "  <tbody>\n",
       "    <tr>\n",
       "      <th>0</th>\n",
       "      <td>3</td>\n",
       "      <td>male</td>\n",
       "      <td>22.0</td>\n",
       "    </tr>\n",
       "    <tr>\n",
       "      <th>1</th>\n",
       "      <td>1</td>\n",
       "      <td>female</td>\n",
       "      <td>38.0</td>\n",
       "    </tr>\n",
       "    <tr>\n",
       "      <th>2</th>\n",
       "      <td>3</td>\n",
       "      <td>female</td>\n",
       "      <td>26.0</td>\n",
       "    </tr>\n",
       "    <tr>\n",
       "      <th>3</th>\n",
       "      <td>1</td>\n",
       "      <td>female</td>\n",
       "      <td>35.0</td>\n",
       "    </tr>\n",
       "    <tr>\n",
       "      <th>4</th>\n",
       "      <td>3</td>\n",
       "      <td>male</td>\n",
       "      <td>35.0</td>\n",
       "    </tr>\n",
       "  </tbody>\n",
       "</table>\n",
       "</div>"
      ],
      "text/plain": [
       "   Pclass     Sex   Age\n",
       "0       3    male  22.0\n",
       "1       1  female  38.0\n",
       "2       3  female  26.0\n",
       "3       1  female  35.0\n",
       "4       3    male  35.0"
      ]
     },
     "execution_count": 21,
     "metadata": {},
     "output_type": "execute_result"
    }
   ],
   "source": [
    "some_data"
   ]
  },
  {
   "cell_type": "code",
   "execution_count": 22,
   "metadata": {},
   "outputs": [
    {
     "name": "stdout",
     "output_type": "stream",
     "text": [
      "Predictions:  [0 1 1 1 0]\n"
     ]
    }
   ],
   "source": [
    "some_data_prepared = full_pipeline.transform(some_data)\n",
    "\n",
    "print(\"Predictions: \", lin_reg.predict(some_data_prepared))"
   ]
  },
  {
   "cell_type": "code",
   "execution_count": 23,
   "metadata": {},
   "outputs": [
    {
     "name": "stdout",
     "output_type": "stream",
     "text": [
      "Labels: [0, 1, 1, 1, 0]\n"
     ]
    }
   ],
   "source": [
    "print(\"Labels:\", list(some_labels))"
   ]
  },
  {
   "cell_type": "code",
   "execution_count": 24,
   "metadata": {},
   "outputs": [
    {
     "data": {
      "text/plain": [
       "0.44821631782492505"
      ]
     },
     "execution_count": 24,
     "metadata": {},
     "output_type": "execute_result"
    }
   ],
   "source": [
    "from sklearn.metrics import mean_squared_error\n",
    "import numpy as np\n",
    "\n",
    "titanic_predictions = lin_reg.predict(titanic_prepared)\n",
    "lin_mse = mean_squared_error(titanic_labels, titanic_predictions)\n",
    "lin_rmse = np.sqrt(lin_mse)\n",
    "lin_rmse"
   ]
  },
  {
   "cell_type": "code",
   "execution_count": 25,
   "metadata": {},
   "outputs": [],
   "source": [
    "results = titanic_predictions == titanic_labels"
   ]
  },
  {
   "cell_type": "code",
   "execution_count": 26,
   "metadata": {},
   "outputs": [
    {
     "data": {
      "text/plain": [
       "True     712\n",
       "False    179\n",
       "Name: Survived, dtype: int64"
      ]
     },
     "execution_count": 26,
     "metadata": {},
     "output_type": "execute_result"
    }
   ],
   "source": [
    "results.value_counts()"
   ]
  },
  {
   "cell_type": "code",
   "execution_count": 27,
   "metadata": {},
   "outputs": [
    {
     "data": {
      "text/html": [
       "<div>\n",
       "<style scoped>\n",
       "    .dataframe tbody tr th:only-of-type {\n",
       "        vertical-align: middle;\n",
       "    }\n",
       "\n",
       "    .dataframe tbody tr th {\n",
       "        vertical-align: top;\n",
       "    }\n",
       "\n",
       "    .dataframe thead th {\n",
       "        text-align: right;\n",
       "    }\n",
       "</style>\n",
       "<table border=\"1\" class=\"dataframe\">\n",
       "  <thead>\n",
       "    <tr style=\"text-align: right;\">\n",
       "      <th></th>\n",
       "      <th>Pclass</th>\n",
       "      <th>Sex</th>\n",
       "      <th>Age</th>\n",
       "    </tr>\n",
       "  </thead>\n",
       "  <tbody>\n",
       "    <tr>\n",
       "      <th>0</th>\n",
       "      <td>3</td>\n",
       "      <td>male</td>\n",
       "      <td>34.5</td>\n",
       "    </tr>\n",
       "    <tr>\n",
       "      <th>1</th>\n",
       "      <td>3</td>\n",
       "      <td>female</td>\n",
       "      <td>47.0</td>\n",
       "    </tr>\n",
       "    <tr>\n",
       "      <th>2</th>\n",
       "      <td>2</td>\n",
       "      <td>male</td>\n",
       "      <td>62.0</td>\n",
       "    </tr>\n",
       "    <tr>\n",
       "      <th>3</th>\n",
       "      <td>3</td>\n",
       "      <td>male</td>\n",
       "      <td>27.0</td>\n",
       "    </tr>\n",
       "    <tr>\n",
       "      <th>4</th>\n",
       "      <td>3</td>\n",
       "      <td>female</td>\n",
       "      <td>22.0</td>\n",
       "    </tr>\n",
       "    <tr>\n",
       "      <th>...</th>\n",
       "      <td>...</td>\n",
       "      <td>...</td>\n",
       "      <td>...</td>\n",
       "    </tr>\n",
       "    <tr>\n",
       "      <th>413</th>\n",
       "      <td>3</td>\n",
       "      <td>male</td>\n",
       "      <td>NaN</td>\n",
       "    </tr>\n",
       "    <tr>\n",
       "      <th>414</th>\n",
       "      <td>1</td>\n",
       "      <td>female</td>\n",
       "      <td>39.0</td>\n",
       "    </tr>\n",
       "    <tr>\n",
       "      <th>415</th>\n",
       "      <td>3</td>\n",
       "      <td>male</td>\n",
       "      <td>38.5</td>\n",
       "    </tr>\n",
       "    <tr>\n",
       "      <th>416</th>\n",
       "      <td>3</td>\n",
       "      <td>male</td>\n",
       "      <td>NaN</td>\n",
       "    </tr>\n",
       "    <tr>\n",
       "      <th>417</th>\n",
       "      <td>3</td>\n",
       "      <td>male</td>\n",
       "      <td>NaN</td>\n",
       "    </tr>\n",
       "  </tbody>\n",
       "</table>\n",
       "<p>418 rows × 3 columns</p>\n",
       "</div>"
      ],
      "text/plain": [
       "     Pclass     Sex   Age\n",
       "0         3    male  34.5\n",
       "1         3  female  47.0\n",
       "2         2    male  62.0\n",
       "3         3    male  27.0\n",
       "4         3  female  22.0\n",
       "..      ...     ...   ...\n",
       "413       3    male   NaN\n",
       "414       1  female  39.0\n",
       "415       3    male  38.5\n",
       "416       3    male   NaN\n",
       "417       3    male   NaN\n",
       "\n",
       "[418 rows x 3 columns]"
      ]
     },
     "execution_count": 27,
     "metadata": {},
     "output_type": "execute_result"
    }
   ],
   "source": [
    "test_titanic"
   ]
  },
  {
   "cell_type": "code",
   "execution_count": 28,
   "metadata": {},
   "outputs": [],
   "source": [
    "data_test_prepared = full_pipeline.transform(test_titanic)"
   ]
  },
  {
   "cell_type": "code",
   "execution_count": 32,
   "metadata": {},
   "outputs": [],
   "source": [
    "predict = lin_reg.predict(data_test_prepared)"
   ]
  },
  {
   "cell_type": "code",
   "execution_count": 35,
   "metadata": {},
   "outputs": [],
   "source": [
    "submit = pd.DataFrame({\"PassengerId\":strat_test.PassengerId, 'Survived':predict})"
   ]
  },
  {
   "cell_type": "code",
   "execution_count": 36,
   "metadata": {},
   "outputs": [],
   "source": [
    "submit.to_csv(\"final_submission.csv\", index = False)"
   ]
  },
  {
   "cell_type": "code",
   "execution_count": 37,
   "metadata": {},
   "outputs": [
    {
     "name": "stdout",
     "output_type": "stream",
     "text": [
      "Successfully submitted to Titanic - Machine Learning from Disaster\n"
     ]
    },
    {
     "name": "stderr",
     "output_type": "stream",
     "text": [
      "\n",
      "  0%|          | 0.00/3.18k [00:00<?, ?B/s]\n",
      "100%|██████████| 3.18k/3.18k [00:00<00:00, 20.0kB/s]\n",
      "100%|██████████| 3.18k/3.18k [00:01<00:00, 1.85kB/s]\n"
     ]
    }
   ],
   "source": [
    "!kaggle competitions submit -c titanic -f final_submission.csv -m \"Message\""
   ]
  },
  {
   "cell_type": "code",
   "execution_count": null,
   "metadata": {},
   "outputs": [],
   "source": []
  }
 ],
 "metadata": {
  "interpreter": {
   "hash": "7da304deac982baad6b040711bce9b151f84738230fc68af043fb3a454ba8098"
  },
  "kernelspec": {
   "display_name": "Python 3.7.10 ('tf2')",
   "language": "python",
   "name": "python3"
  },
  "language_info": {
   "codemirror_mode": {
    "name": "ipython",
    "version": 3
   },
   "file_extension": ".py",
   "mimetype": "text/x-python",
   "name": "python",
   "nbconvert_exporter": "python",
   "pygments_lexer": "ipython3",
   "version": "3.7.10"
  },
  "orig_nbformat": 4
 },
 "nbformat": 4,
 "nbformat_minor": 2
}
